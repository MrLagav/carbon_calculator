{
 "cells": [
  {
   "cell_type": "code",
   "execution_count": null,
   "id": "66b4ad8b",
   "metadata": {},
   "outputs": [],
   "source": [
    "# get webcam live feed\n",
    "# do object detection using yolo model\n",
    "\n",
    "# WSL does not support hardware access. Need to setup webcam feed socket from webcam."
   ]
  },
  {
   "cell_type": "code",
   "execution_count": 5,
   "id": "f96d4fe5-4337-47a0-996a-8f0f8fc9ffa8",
   "metadata": {},
   "outputs": [
    {
     "name": "stdout",
     "output_type": "stream",
     "text": [
      "https://rr3---sn-aigl6nzl.googlevideo.com/videoplayback?expire=1709774780&ei=XMPoZajUC6-Lp-oPh-WsuAc&ip=81.134.218.37&id=o-AO5EOcd1QXPvBpAQECWPNPhjKth4-4aRwE8AMqasYZg7&itag=22&source=youtube&requiressl=yes&xpc=EgVo2aDSNQ%3D%3D&mh=Sq&mm=31%2C29&mn=sn-aigl6nzl%2Csn-aigzrnze&ms=au%2Crdu&mv=m&mvi=3&pl=19&initcwndbps=3742500&vprv=1&mime=video%2Fmp4&cnr=14&ratebypass=yes&dur=210.024&lmt=1693288702630949&mt=1709752857&fvip=3&fexp=24007246&c=ANDROID_EMBEDDED_PLAYER&txp=4532434&sparams=expire%2Cei%2Cip%2Cid%2Citag%2Csource%2Crequiressl%2Cxpc%2Cvprv%2Cmime%2Ccnr%2Cratebypass%2Cdur%2Clmt&sig=AJfQdSswRAIgcJY6IWN3wXfmmw9FBXcl_wcIWPV-sY713uCjuRJRUcsCIC5JDi7JsQN0Snh3xuF6mY5hl5qHrn5JFR3kLRFuD4Gy&lsparams=mh%2Cmm%2Cmn%2Cms%2Cmv%2Cmvi%2Cpl%2Cinitcwndbps&lsig=APTiJQcwRAIgeK15AKhzb5cKtS6zdk--OAkrLTnPeC8fjJoxjFLhtToCIDLqpBcs2oUC9zR9znekCsdAU7r-ZYcmbZSxW4n906zM\n"
     ]
    }
   ],
   "source": [
    "from pytube import  YouTube\n",
    "\n",
    "url = \"https://www.youtube.com/watch?v=Hz2F_S3Tl0Y&t=29s&ab_channel=RedBull\"\n",
    "yt = YouTube(url)\n",
    "\n",
    "stream = yt.streams.get_highest_resolution()\n",
    "\n",
    "print(stream.url)"
   ]
  }
 ],
 "metadata": {
  "kernelspec": {
   "display_name": "carbon_calculator",
   "language": "python",
   "name": "python3"
  },
  "language_info": {
   "codemirror_mode": {
    "name": "ipython",
    "version": 3
   },
   "file_extension": ".py",
   "mimetype": "text/x-python",
   "name": "python",
   "nbconvert_exporter": "python",
   "pygments_lexer": "ipython3",
   "version": "3.10.6"
  }
 },
 "nbformat": 4,
 "nbformat_minor": 5
}
