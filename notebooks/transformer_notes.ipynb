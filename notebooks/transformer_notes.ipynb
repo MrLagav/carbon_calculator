{
 "cells": [
  {
   "cell_type": "code",
   "execution_count": 1,
   "id": "b77b638f",
   "metadata": {},
   "outputs": [],
   "source": [
    "%load_ext autoreload\n",
    "%autoreload 2"
   ]
  },
  {
   "cell_type": "code",
   "execution_count": 6,
   "id": "c4eba4e2-eb46-4d98-8a61-1dddb28bcfae",
   "metadata": {},
   "outputs": [],
   "source": [
    "from transformers import AutoImageProcessor, AutoModelForImageClassification\n",
    "from PIL import Image\n",
    "import torch"
   ]
  },
  {
   "cell_type": "code",
   "execution_count": 7,
   "id": "cc9b069c",
   "metadata": {},
   "outputs": [],
   "source": [
    "from carb_calc.ml_logic.model import load_model, prediction\n",
    "from carb_calc.ml_logic.preprocessor import preprocessing\n",
    "from carb_calc.api.fast import predict\n"
   ]
  },
  {
   "cell_type": "code",
   "execution_count": 11,
   "id": "c76c3e48",
   "metadata": {},
   "outputs": [
    {
     "name": "stdout",
     "output_type": "stream",
     "text": [
      "✅ Processed image\n",
      "✅ Granny Smith\n"
     ]
    }
   ],
   "source": [
    "filepath = '../test_images/apple.jpg'\n",
    "predict(filepath)"
   ]
  },
  {
   "cell_type": "code",
   "execution_count": null,
   "id": "91de3fd7",
   "metadata": {},
   "outputs": [],
   "source": []
  }
 ],
 "metadata": {
  "kernelspec": {
   "display_name": "Python 3 (ipykernel)",
   "language": "python",
   "name": "python3"
  },
  "language_info": {
   "codemirror_mode": {
    "name": "ipython",
    "version": 3
   },
   "file_extension": ".py",
   "mimetype": "text/x-python",
   "name": "python",
   "nbconvert_exporter": "python",
   "pygments_lexer": "ipython3",
   "version": "3.10.6"
  }
 },
 "nbformat": 4,
 "nbformat_minor": 5
}
