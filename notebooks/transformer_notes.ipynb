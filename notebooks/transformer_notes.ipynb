{
 "cells": [
  {
   "cell_type": "code",
   "execution_count": 2,
   "id": "b77b638f",
   "metadata": {},
   "outputs": [],
   "source": [
    "%load_ext autoreload\n",
    "%autoreload 2"
   ]
  },
  {
   "cell_type": "code",
   "execution_count": 76,
   "id": "c4eba4e2-eb46-4d98-8a61-1dddb28bcfae",
   "metadata": {},
   "outputs": [],
   "source": [
    "from transformers import ViTFeatureExtractor, TFAutoModel\n",
    "from PIL import Image\n",
    "import tensorflow as tf\n",
    "from carb_calc.ml_logic.model import prediction\n",
    "import cv2\n",
    "import os\n",
    "import matplotlib.pyplot as plt\n",
    "from torchvision import datasets\n",
    "from torch.utils.data import DataLoader\n",
    "import numpy as np"
   ]
  },
  {
   "cell_type": "code",
   "execution_count": 3,
   "id": "6f7997f3",
   "metadata": {},
   "outputs": [
    {
     "name": "stderr",
     "output_type": "stream",
     "text": [
      "Some weights of the PyTorch model were not used when initializing the TF 2.0 model TFViTModel: ['classifier.bias', 'classifier.weight']\n",
      "- This IS expected if you are initializing TFViTModel from a PyTorch model trained on another task or with another architecture (e.g. initializing a TFBertForSequenceClassification model from a BertForPreTraining model).\n",
      "- This IS NOT expected if you are initializing TFViTModel from a PyTorch model that you expect to be exactly identical (e.g. initializing a TFBertForSequenceClassification model from a BertForSequenceClassification model).\n",
      "Some weights or buffers of the TF 2.0 model TFViTModel were not initialized from the PyTorch model and are newly initialized: ['vit.pooler.dense.weight', 'vit.pooler.dense.bias']\n",
      "You should probably TRAIN this model on a down-stream task to be able to use it for predictions and inference.\n"
     ]
    }
   ],
   "source": [
    "base_model = TFAutoModel.from_pretrained('google/vit-base-patch16-224')"
   ]
  },
  {
   "cell_type": "code",
   "execution_count": 4,
   "id": "0d2dadd5",
   "metadata": {},
   "outputs": [
    {
     "name": "stderr",
     "output_type": "stream",
     "text": [
      "/Users/kymbradshaw/.pyenv/versions/3.10.6/envs/carbon_calculator/lib/python3.10/site-packages/transformers/models/vit/feature_extraction_vit.py:28: FutureWarning: The class ViTFeatureExtractor is deprecated and will be removed in version 5 of Transformers. Please use ViTImageProcessor instead.\n",
      "  warnings.warn(\n"
     ]
    }
   ],
   "source": [
    "feature_extractor = ViTFeatureExtractor.from_pretrained(\"google/vit-base-patch16-224\")"
   ]
  },
  {
   "cell_type": "code",
   "execution_count": 145,
   "id": "b84f8b49",
   "metadata": {},
   "outputs": [],
   "source": [
    "image = Image.open('../test_images/orange_2.jpg')"
   ]
  },
  {
   "cell_type": "code",
   "execution_count": 6,
   "id": "d3dbfbcc",
   "metadata": {},
   "outputs": [],
   "source": [
    "processed_image = feature_extractor(images=image, return_tensors=\"tf\")"
   ]
  },
  {
   "cell_type": "code",
   "execution_count": 7,
   "id": "a4b6bf44",
   "metadata": {},
   "outputs": [],
   "source": [
    "embeddings = base_model(processed_image)"
   ]
  },
  {
   "cell_type": "code",
   "execution_count": 8,
   "id": "cc9b069c",
   "metadata": {},
   "outputs": [],
   "source": [
    "X = embeddings.last_hidden_state"
   ]
  },
  {
   "cell_type": "code",
   "execution_count": 9,
   "id": "67978ebd",
   "metadata": {},
   "outputs": [
    {
     "data": {
      "text/plain": [
       "TensorShape([1, 197, 768])"
      ]
     },
     "execution_count": 9,
     "metadata": {},
     "output_type": "execute_result"
    }
   ],
   "source": [
    "X.shape"
   ]
  },
  {
   "cell_type": "code",
   "execution_count": 10,
   "id": "9a9c7610",
   "metadata": {},
   "outputs": [],
   "source": [
    "X = X[:,0,:]"
   ]
  },
  {
   "cell_type": "code",
   "execution_count": 11,
   "id": "8d8fc17c",
   "metadata": {},
   "outputs": [
    {
     "data": {
      "text/plain": [
       "TensorShape([1, 768])"
      ]
     },
     "execution_count": 11,
     "metadata": {},
     "output_type": "execute_result"
    }
   ],
   "source": [
    "X.shape"
   ]
  },
  {
   "cell_type": "code",
   "execution_count": 80,
   "id": "fca5a501",
   "metadata": {},
   "outputs": [],
   "source": [
    "file_path_train = '/Users/kymbradshaw/Downloads/fruits_360/fruits-360_dataset/fruits-360/Training'\n",
    "file_path_test = '/Users/kymbradshaw/Downloads/fruits_360/fruits-360_dataset/fruits-360/Test'"
   ]
  },
  {
   "cell_type": "code",
   "execution_count": 81,
   "id": "43df99f2",
   "metadata": {},
   "outputs": [
    {
     "name": "stdout",
     "output_type": "stream",
     "text": [
      "Found 67692 files belonging to 131 classes.\n",
      "Found 22688 files belonging to 131 classes.\n"
     ]
    }
   ],
   "source": [
    "train = tf.keras.utils.image_dataset_from_directory(file_path_train, labels='inferred', label_mode='categorical', color_mode='rgb', batch_size=32, image_size=(100,100), shuffle=True)\n",
    "test = tf.keras.utils.image_dataset_from_directory(file_path_test, labels='inferred', label_mode='categorical', color_mode='rgb', batch_size=32, image_size=(100,100))"
   ]
  },
  {
   "cell_type": "code",
   "execution_count": 82,
   "id": "a5b63a7d",
   "metadata": {},
   "outputs": [],
   "source": [
    "model_filepath = '/Users/kymbradshaw/Downloads/first_model.keras'"
   ]
  },
  {
   "cell_type": "code",
   "execution_count": 83,
   "id": "bf189f16",
   "metadata": {},
   "outputs": [
    {
     "name": "stdout",
     "output_type": "stream",
     "text": [
      "WARNING:tensorflow:No training configuration found in the save file, so the model was *not* compiled. Compile it manually.\n"
     ]
    }
   ],
   "source": [
    "tuned_model = tf.keras.saving.load_model(model_filepath)"
   ]
  },
  {
   "cell_type": "code",
   "execution_count": 84,
   "id": "bf7f7d8c",
   "metadata": {},
   "outputs": [],
   "source": [
    "tuned_model.compile(optimizer='adam', loss='categorical_crossentropy', metrics='accuracy')"
   ]
  },
  {
   "cell_type": "code",
   "execution_count": 85,
   "id": "d08f1341",
   "metadata": {},
   "outputs": [],
   "source": [
    "testing_image=feature_extractor(images=image, return_tensors=\"tf\")"
   ]
  },
  {
   "cell_type": "code",
   "execution_count": 86,
   "id": "7cf730b8",
   "metadata": {},
   "outputs": [],
   "source": [
    "embeddings = base_model(testing_image)\n",
    "X = embeddings.last_hidden_state\n",
    "X = X[:,0,:]"
   ]
  },
  {
   "cell_type": "code",
   "execution_count": 87,
   "id": "61b7d349",
   "metadata": {},
   "outputs": [
    {
     "name": "stdout",
     "output_type": "stream",
     "text": [
      "1/1 [==============================] - 0s 109ms/step\n"
     ]
    }
   ],
   "source": [
    "output = tuned_model.predict(X)"
   ]
  },
  {
   "cell_type": "code",
   "execution_count": 88,
   "id": "4c4694ec",
   "metadata": {},
   "outputs": [
    {
     "data": {
      "text/plain": [
       "array([[1.01488164e-04, 6.99210887e-07, 7.30226679e-09, 3.21551779e-04,\n",
       "        1.63950870e-06, 8.17196089e-09, 1.17545633e-05, 2.06017233e-07,\n",
       "        1.83636132e-07, 7.32874298e-07, 8.68419477e-07, 9.12528485e-05,\n",
       "        9.69698249e-06, 1.51850109e-05, 2.18203350e-05, 4.80664923e-04,\n",
       "        4.93757939e-03, 9.30721819e-01, 3.82527674e-07, 1.64812864e-05,\n",
       "        6.10492179e-07, 7.02506350e-06, 2.91009110e-06, 4.27489385e-06,\n",
       "        7.80448827e-05, 8.37026164e-07, 5.27961452e-10, 7.84144305e-08,\n",
       "        4.67115342e-08, 2.32837692e-06, 2.56179700e-09, 1.24854178e-05,\n",
       "        3.22920641e-05, 1.96813598e-05, 2.06019919e-04, 3.56300792e-04,\n",
       "        1.65387799e-04, 8.05097677e-09, 5.15758991e-09, 1.75182799e-06,\n",
       "        1.24502336e-07, 5.37288685e-08, 2.09677273e-05, 1.57888124e-07,\n",
       "        1.68241982e-07, 3.54546302e-07, 4.70221067e-07, 7.34692776e-06,\n",
       "        3.34226979e-06, 7.40372386e-08, 2.71748086e-05, 6.72260398e-07,\n",
       "        5.29362820e-04, 5.10442533e-07, 1.03183049e-06, 4.38040588e-05,\n",
       "        7.15381361e-07, 3.14358513e-05, 3.44602944e-04, 2.32062712e-06,\n",
       "        1.68543833e-04, 6.05246518e-04, 1.22901383e-05, 1.09220866e-06,\n",
       "        2.42842589e-07, 1.32900436e-06, 1.82719793e-06, 2.34445437e-07,\n",
       "        8.86159614e-06, 1.55192276e-04, 6.79966888e-07, 1.19788226e-07,\n",
       "        4.12477945e-08, 5.70415395e-05, 4.48690889e-06, 2.49392792e-06,\n",
       "        1.55419542e-07, 3.16303517e-09, 4.15635348e-08, 9.01473686e-06,\n",
       "        9.99102912e-10, 5.65398324e-08, 3.12787756e-06, 3.98936692e-07,\n",
       "        1.67184608e-05, 2.38604798e-07, 1.58263265e-06, 1.35242635e-08,\n",
       "        9.49069445e-09, 6.31519697e-06, 5.02857984e-06, 9.92816581e-07,\n",
       "        3.53413566e-06, 4.12707413e-06, 1.59159099e-05, 1.57055177e-03,\n",
       "        2.06796383e-03, 9.99451345e-07, 2.04398907e-06, 9.99545329e-04,\n",
       "        3.22131091e-04, 1.00552512e-04, 7.86465648e-09, 8.07663483e-08,\n",
       "        1.81364012e-05, 3.69261193e-06, 3.66241729e-05, 4.81459756e-05,\n",
       "        1.26951518e-05, 1.93486382e-09, 9.37772347e-06, 1.27504800e-05,\n",
       "        1.05460751e-08, 1.44998601e-04, 6.58716272e-06, 7.31590831e-07,\n",
       "        1.93687647e-05, 4.97369990e-02, 1.33384901e-07, 1.28405845e-05,\n",
       "        1.90490209e-06, 6.58030986e-05, 3.53441085e-03, 9.89564910e-07,\n",
       "        1.03240391e-05, 2.05118074e-08, 1.21429728e-08, 2.09872942e-05,\n",
       "        2.52131440e-06, 1.47596537e-03, 3.42244493e-05]], dtype=float32)"
      ]
     },
     "execution_count": 88,
     "metadata": {},
     "output_type": "execute_result"
    }
   ],
   "source": [
    "output"
   ]
  },
  {
   "cell_type": "code",
   "execution_count": 116,
   "id": "7799a62f",
   "metadata": {},
   "outputs": [
    {
     "data": {
      "text/plain": [
       "131"
      ]
     },
     "execution_count": 116,
     "metadata": {},
     "output_type": "execute_result"
    }
   ],
   "source": [
    "fruits_and_vegetables = [\n",
    "    'Apple Braeburn', 'Apple Crimson Snow', 'Apple Golden 1', 'Apple Golden 2', 'Apple Golden 3',\n",
    "    'Apple Granny Smith', 'Apple Pink Lady', 'Apple Red 1', 'Apple Red 2', 'Apple Red 3',\n",
    "    'Apple Red Delicious', 'Apple Red Yellow 1', 'Apple Red Yellow 2', 'Apricot', 'Avocado',\n",
    "    'Avocado ripe', 'Banana', 'Banana Lady Finger', 'Banana Red', 'Beetroot', 'Blueberry',\n",
    "    'Cactus fruit', 'Cantaloupe 1', 'Cantaloupe 2', 'Carambula', 'Cauliflower', 'Cherry 1',\n",
    "    'Cherry 2', 'Cherry Rainier', 'Cherry Wax Black', 'Cherry Wax Red', 'Cherry Wax Yellow',\n",
    "    'Chestnut', 'Clementine', 'Cocos', 'Corn', 'Corn Husk', 'Cucumber Ripe', 'Cucumber Ripe 2',\n",
    "    'Dates', 'Eggplant', 'Fig', 'Ginger Root', 'Granadilla', 'Grape Blue', 'Grape Pink',\n",
    "    'Grape White', 'Grape White 2', 'Grape White 3', 'Grape White 4', 'Grapefruit Pink',\n",
    "    'Grapefruit White', 'Guava', 'Hazelnut', 'Huckleberry', 'Kaki', 'Kiwi', 'Kohlrabi', 'Kumquats',\n",
    "    'Lemon', 'Lemon Meyer', 'Limes', 'Lychee', 'Mandarine', 'Mango', 'Mango Red', 'Mangostan',\n",
    "    'Maracuja', 'Melon Piel de Sapo', 'Mulberry', 'Nectarine', 'Nectarine Flat', 'Nut Forest',\n",
    "    'Nut Pecan', 'Onion Red', 'Onion Red Peeled', 'Onion White', 'Orange', 'Papaya', 'Passion Fruit',\n",
    "    'Peach', 'Peach 2', 'Peach Flat', 'Pear', 'Pear 2', 'Pear Abate', 'Pear Forelle', 'Pear Kaiser',\n",
    "    'Pear Monster', 'Pear Red', 'Pear Stone', 'Pear Williams', 'Pepino', 'Pepper Green',\n",
    "    'Pepper Orange', 'Pepper Red', 'Pepper Yellow', 'Physalis', 'Physalis with Husk', 'Pineapple',\n",
    "    'Pineapple Mini', 'Pitahaya Red', 'Plum', 'Plum 2', 'Plum 3', 'Pomegranate', 'Pomelo Sweetie',\n",
    "    'Potato Red', 'Potato Red Washed', 'Potato Sweet', 'Potato White', 'Quince', 'Rambutan',\n",
    "    'Raspberry', 'Redcurrant', 'Salak', 'Strawberry', 'Strawberry Wedge', 'Tamarillo', 'Tangelo',\n",
    "    'Tomato 1', 'Tomato 2', 'Tomato 3', 'Tomato 4', 'Tomato Cherry Red', 'Tomato Heart',\n",
    "    'Tomato Maroon', 'Tomato Yellow', 'Tomato not Ripened', 'Walnut', 'Watermelon'\n",
    "]\n",
    "\n",
    "\n",
    "len(fruits_and_vegetables)"
   ]
  },
  {
   "cell_type": "code",
   "execution_count": 137,
   "id": "4f86bf1a",
   "metadata": {},
   "outputs": [
    {
     "data": {
      "image/png": "[encoded data removed]",
      "text/plain": [
       "<Figure size 640x480 with 1 Axes>"
      ]
     },
     "metadata": {},
     "output_type": "display_data"
    }
   ],
   "source": [
    "for img, label in test.take(1):\n",
    "    testing_image = img[0]\n",
    "    plt.imshow(img[0].numpy().astype(\"uint8\"))\n",
    "    break"
   ]
  },
  {
   "cell_type": "code",
   "execution_count": 146,
   "id": "76584e95",
   "metadata": {},
   "outputs": [],
   "source": [
    "process=feature_extractor(images=image, return_tensors=\"tf\")\n",
    "embeddings = base_model(process)\n",
    "X = embeddings.last_hidden_state\n",
    "X = X[:,0,:]"
   ]
  },
  {
   "cell_type": "code",
   "execution_count": 147,
   "id": "4494308a",
   "metadata": {},
   "outputs": [
    {
     "name": "stdout",
     "output_type": "stream",
     "text": [
      "1/1 [==============================] - 0s 14ms/step\n"
     ]
    },
    {
     "data": {
      "text/plain": [
       "['Clementine']"
      ]
     },
     "execution_count": 147,
     "metadata": {},
     "output_type": "execute_result"
    }
   ],
   "source": [
    "output = tuned_model.predict(X)\n",
    "prediction = [fruits_and_vegetables[np.argmax(out)] for out in output]\n",
    "prediction"
   ]
  },
  {
   "cell_type": "code",
   "execution_count": null,
   "id": "f7b429de",
   "metadata": {},
   "outputs": [],
   "source": []
  },
  {
   "cell_type": "code",
   "execution_count": null,
   "id": "9b596939",
   "metadata": {},
   "outputs": [],
   "source": []
  }
 ],
 "metadata": {
  "kernelspec": {
   "display_name": "Python 3 (ipykernel)",
   "language": "python",
   "name": "python3"
  },
  "language_info": {
   "codemirror_mode": {
    "name": "ipython",
    "version": 3
   },
   "file_extension": ".py",
   "mimetype": "text/x-python",
   "name": "python",
   "nbconvert_exporter": "python",
   "pygments_lexer": "ipython3",
   "version": "3.10.6"
  }
 },
 "nbformat": 4,
 "nbformat_minor": 5
}
