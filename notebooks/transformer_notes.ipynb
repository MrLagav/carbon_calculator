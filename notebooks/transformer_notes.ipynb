{
 "cells": [
  {
   "cell_type": "code",
   "execution_count": 6,
   "id": "c4eba4e2-eb46-4d98-8a61-1dddb28bcfae",
   "metadata": {},
   "outputs": [
    {
     "name": "stderr",
     "output_type": "stream",
     "text": [
      "/Users/kymbradshaw/.pyenv/versions/3.10.6/envs/carbon_calculator/lib/python3.10/site-packages/tqdm/auto.py:21: TqdmWarning: IProgress not found. Please update jupyter and ipywidgets. See https://ipywidgets.readthedocs.io/en/stable/user_install.html\n",
      "  from .autonotebook import tqdm as notebook_tqdm\n"
     ]
    }
   ],
   "source": [
    "from transformers import AutoImageProcessor, AutoModelForImageClassification\n",
    "from PIL import Image\n",
    "import torch"
   ]
  },
  {
   "cell_type": "code",
   "execution_count": 19,
   "id": "728a7ca3",
   "metadata": {},
   "outputs": [],
   "source": [
    "apple = Image.open('/Users/kymbradshaw/Desktop/test_images/orange.jpg')"
   ]
  },
  {
   "cell_type": "code",
   "execution_count": 20,
   "id": "6d5e9124-02ec-4b25-9ef1-6f9b24bbdd2e",
   "metadata": {},
   "outputs": [],
   "source": [
    "processor_g = AutoImageProcessor.from_pretrained(\"google/vit-base-patch16-224\")\n",
    "model_g = AutoModelForImageClassification.from_pretrained(\"google/vit-base-patch16-224\")"
   ]
  },
  {
   "cell_type": "code",
   "execution_count": 21,
   "id": "03b4857f",
   "metadata": {},
   "outputs": [],
   "source": [
    "inputs = processor_g(apple, return_tensors=\"pt\")"
   ]
  },
  {
   "cell_type": "code",
   "execution_count": 22,
   "id": "36412ecd",
   "metadata": {},
   "outputs": [
    {
     "name": "stdout",
     "output_type": "stream",
     "text": [
      "orange\n"
     ]
    }
   ],
   "source": [
    "with torch.no_grad():\n",
    "    logits = model_g(**inputs).logits\n",
    "\n",
    "\n",
    "predicted_label = logits.argmax(-1).item()\n",
    "print(model_g.config.id2label[predicted_label])"
   ]
  },
  {
   "cell_type": "code",
   "execution_count": 20,
   "id": "0f7125c5",
   "metadata": {},
   "outputs": [],
   "source": [
    "def load_model():\n",
    "    \"\"\"\n",
    "    Loads the model from the transformers package with pretrained weights\n",
    "    \"\"\"\n",
    "    model = AutoModelForImageClassification.from_pretrained(\"google/vit-base-patch16-224\")\n",
    "\n",
    "    print(\"✅ Model loaded\")\n",
    "\n",
    "    return model\n",
    "\n",
    "def predict(processed_image, model):\n",
    "    \"\"\"\n",
    "    Takes processed image and model as input and returns the class with the highest log likelihood\n",
    "    \"\"\"\n",
    "    with torch.no_grad():\n",
    "        log = model(**processed_image).logits\n",
    "\n",
    "    predicted_label = log.argmax(-1).item()\n",
    "    classification = model.config.id2label[predicted_label]\n",
    "\n",
    "    return classification\n"
   ]
  },
  {
   "cell_type": "code",
   "execution_count": 21,
   "id": "d27300ae",
   "metadata": {},
   "outputs": [],
   "source": [
    "def preprocessing(crop_image):\n",
    "    \"\"\"\n",
    "    Takes image (jpeg, webp) as an input and processes it using google's image processor\n",
    "    \"\"\"\n",
    "    image = Image.open(crop_image)\n",
    "    processor = AutoImageProcessor.from_pretrained(\"google/vit-base-patch16-224\")\n",
    "    processor(image, return_tensors='pt')\n",
    "    processed_image = processor(image, return_tensors='pt')\n",
    "\n",
    "    print(\"✅ Processed image\")\n",
    "\n",
    "    return processed_image"
   ]
  },
  {
   "cell_type": "code",
   "execution_count": 22,
   "id": "39bd2d25",
   "metadata": {},
   "outputs": [],
   "source": [
    "def prediction(crop_image):\n",
    "    \"\"\"\n",
    "    This is the endpoint for the predictions\n",
    "\n",
    "    Args: to be defined\n",
    "    \"\"\"\n",
    "    processed_image = preprocessing(crop_image)\n",
    "    model = load_model()\n",
    "    prediction = predict(processed_image,model)\n",
    "    return prediction"
   ]
  },
  {
   "cell_type": "code",
   "execution_count": 23,
   "id": "1643cea6",
   "metadata": {},
   "outputs": [
    {
     "name": "stdout",
     "output_type": "stream",
     "text": [
      "✅ Processed image\n",
      "✅ Model loaded\n"
     ]
    },
    {
     "data": {
      "text/plain": [
       "'banana'"
      ]
     },
     "execution_count": 23,
     "metadata": {},
     "output_type": "execute_result"
    }
   ],
   "source": [
    "filepath = '../test_images/banana.jpg'\n",
    "prediction(filepath)"
   ]
  },
  {
   "cell_type": "code",
   "execution_count": null,
   "id": "cc9b069c",
   "metadata": {},
   "outputs": [],
   "source": []
  }
 ],
 "metadata": {
  "kernelspec": {
   "display_name": "Python 3 (ipykernel)",
   "language": "python",
   "name": "python3"
  },
  "language_info": {
   "codemirror_mode": {
    "name": "ipython",
    "version": 3
   },
   "file_extension": ".py",
   "mimetype": "text/x-python",
   "name": "python",
   "nbconvert_exporter": "python",
   "pygments_lexer": "ipython3",
   "version": "3.10.6"
  }
 },
 "nbformat": 4,
 "nbformat_minor": 5
}
