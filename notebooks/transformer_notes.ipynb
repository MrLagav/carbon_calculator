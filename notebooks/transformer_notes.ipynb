{
 "cells": [
  {
   "cell_type": "code",
   "execution_count": 7,
   "id": "c4eba4e2-eb46-4d98-8a61-1dddb28bcfae",
   "metadata": {},
   "outputs": [],
   "source": [
    "from transformers import AutoImageProcessor, AutoModelForImageClassification\n",
    "from PIL import Image\n",
    "import torch"
   ]
  },
  {
   "cell_type": "code",
   "execution_count": 19,
   "id": "728a7ca3",
   "metadata": {},
   "outputs": [],
   "source": [
    "apple = Image.open('/Users/kymbradshaw/Desktop/test_images/orange.jpg')"
   ]
  },
  {
   "cell_type": "code",
   "execution_count": 20,
   "id": "6d5e9124-02ec-4b25-9ef1-6f9b24bbdd2e",
   "metadata": {},
   "outputs": [],
   "source": [
    "processor_g = AutoImageProcessor.from_pretrained(\"google/vit-base-patch16-224\")\n",
    "model_g = AutoModelForImageClassification.from_pretrained(\"google/vit-base-patch16-224\")"
   ]
  },
  {
   "cell_type": "code",
   "execution_count": 21,
   "id": "03b4857f",
   "metadata": {},
   "outputs": [],
   "source": [
    "inputs = processor_g(apple, return_tensors=\"pt\")"
   ]
  },
  {
   "cell_type": "code",
   "execution_count": 22,
   "id": "36412ecd",
   "metadata": {},
   "outputs": [
    {
     "name": "stdout",
     "output_type": "stream",
     "text": [
      "orange\n"
     ]
    }
   ],
   "source": [
    "with torch.no_grad():\n",
    "    logits = model_g(**inputs).logits\n",
    "\n",
    "\n",
    "predicted_label = logits.argmax(-1).item()\n",
    "print(model_g.config.id2label[predicted_label])"
   ]
  },
  {
   "cell_type": "code",
   "execution_count": null,
   "id": "0f7125c5",
   "metadata": {},
   "outputs": [],
   "source": []
  }
 ],
 "metadata": {
  "kernelspec": {
   "display_name": "Python 3 (ipykernel)",
   "language": "python",
   "name": "python3"
  },
  "language_info": {
   "codemirror_mode": {
    "name": "ipython",
    "version": 3
   },
   "file_extension": ".py",
   "mimetype": "text/x-python",
   "name": "python",
   "nbconvert_exporter": "python",
   "pygments_lexer": "ipython3",
   "version": "3.10.6"
  }
 },
 "nbformat": 4,
 "nbformat_minor": 5
}
