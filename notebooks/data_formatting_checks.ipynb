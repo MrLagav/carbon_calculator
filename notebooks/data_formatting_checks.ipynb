{
 "cells": [
  {
   "cell_type": "code",
   "execution_count": 7,
   "metadata": {},
   "outputs": [],
   "source": [
    "import numpy as np\n",
    "from PIL import Image\n",
    "import io\n",
    "\n",
    "# get image from backend api\n",
    "\n",
    "def image_cropper(image, object_localisation):\n",
    "\n",
    "    img = Image.open(io.BytesIO(image))\n",
    "\n",
    "    # get the dimensions\n",
    "    img_array = np.asarray(img)\n",
    "    x_shape = img_array.shape[1]\n",
    "    y_shape = img_array.shape[0]\n",
    "\n",
    "    # get the bounding box\n",
    "    bbox = object_localisation['objects'][0]['vertices']\n",
    "\n",
    "    # get the bounding box array elements\n",
    "    for coord in bbox:\n",
    "        coord['x'] = int(round(coord['x'] * x_shape, 0))\n",
    "        coord['y'] = int(round(coord['y'] * y_shape, 0))\n",
    "\n",
    "    # slice out the object image\n",
    "    obj_array = img_array[bbox[0]['y']:bbox[2]['y'], bbox[0]['x']:bbox[1]['x']]\n",
    "    pil_img = Image.fromarray(obj_array)\n",
    "    binary_img = converter_pil_binary(pil_img)\n",
    "\n",
    "    return pil_img, binary_img\n",
    "\n",
    "def converter_pil_binary(image: Image):\n",
    "    img_byte_arr = io.BytesIO()\n",
    "    image.save(img_byte_arr, format='PNG')\n",
    "    converted_image = img_byte_arr.getvalue()\n",
    "\n",
    "    return converted_image\n",
    "\n",
    "\n",
    "if __name__ == '__main__':\n",
    "    pass\n"
   ]
  },
  {
   "cell_type": "code",
   "execution_count": 19,
   "metadata": {},
   "outputs": [],
   "source": [
    "img = '../test_images/orange_2.jpg'"
   ]
  },
  {
   "cell_type": "code",
   "execution_count": 21,
   "metadata": {},
   "outputs": [],
   "source": [
    "with open(img, 'rb') as f:\n",
    "    image_data_bytes = f.read()"
   ]
  },
  {
   "cell_type": "code",
   "execution_count": 23,
   "metadata": {},
   "outputs": [],
   "source": [
    "from google.cloud import vision\n",
    "\n",
    "def localize_objects_base64(content):\n",
    "    \"\"\"Localize objects in the image\n",
    "\n",
    "    Args:\n",
    "    content: The image in base64\n",
    "    \"\"\"\n",
    "    client = vision.ImageAnnotatorClient()\n",
    "    image = vision.Image(content=content)\n",
    "    response = convert_response(client.object_localization(image=image).localized_object_annotations)\n",
    "    return response\n",
    "\n",
    "def convert_response(objects):\n",
    "    \"\"\"\n",
    "    Convert response from Google Cloud Vision API into a structured format.\n",
    "\n",
    "    Args:\n",
    "        objects (List): List of objects detected by Google Cloud Vision API.\n",
    "\n",
    "    Returns:\n",
    "        dict: A dictionary containing information about detected objects in the image.\n",
    "              The dictionary has the following structure:\n",
    "              {\n",
    "                  'objects': [\n",
    "                      {\n",
    "                          'name': str,  # Name of the detected object\n",
    "                          'confidence': float,  # Confidence score of the detection\n",
    "                          'vertices': [  # List of vertices forming a bounding box around the object\n",
    "                              {\n",
    "                                  'x': float,  # X-coordinate of the vertex\n",
    "                                  'y': float   # Y-coordinate of the vertex\n",
    "                              },\n",
    "                              ...\n",
    "                          ]\n",
    "                      },\n",
    "                      ...\n",
    "                  ]\n",
    "              }\n",
    "    \"\"\"\n",
    "    list_of_objects = []\n",
    "    for object_ in objects:\n",
    "        vertices = []\n",
    "        for vertex in object_.bounding_poly.normalized_vertices:\n",
    "            vertices.append({'x': vertex.x, 'y':vertex.y})\n",
    "        obj = {\n",
    "            'name': object_.name,\n",
    "            'confidence': object_.score,\n",
    "            'vertices': vertices\n",
    "        }\n",
    "        list_of_objects.append(obj)\n",
    "    response = {'objects' : list_of_objects}\n",
    "    return response\n"
   ]
  },
  {
   "cell_type": "code",
   "execution_count": 26,
   "metadata": {},
   "outputs": [
    {
     "data": {
      "text/plain": [
       "{'objects': [{'name': 'Orange',\n",
       "   'confidence': 0.7698898315429688,\n",
       "   'vertices': [{'x': 0.3644851744174957, 'y': 0.36910149455070496},\n",
       "    {'x': 0.6173803210258484, 'y': 0.36910149455070496},\n",
       "    {'x': 0.6173803210258484, 'y': 0.7042608261108398},\n",
       "    {'x': 0.3644851744174957, 'y': 0.7042608261108398}]},\n",
       "  {'name': 'Packaged goods',\n",
       "   'confidence': 0.5047340393066406,\n",
       "   'vertices': [{'x': 0.1538885235786438, 'y': 0.8863508701324463},\n",
       "    {'x': 0.5678027272224426, 'y': 0.8863508701324463},\n",
       "    {'x': 0.5678027272224426, 'y': 0.9973958134651184},\n",
       "    {'x': 0.1538885235786438, 'y': 0.9973958134651184}]}]}"
      ]
     },
     "execution_count": 26,
     "metadata": {},
     "output_type": "execute_result"
    }
   ],
   "source": [
    "object_localisation = localize_objects_base64(image_data_bytes)\n",
    "object_localisation"
   ]
  },
  {
   "cell_type": "code",
   "execution_count": 28,
   "metadata": {},
   "outputs": [
    {
     "ename": "SystemError",
     "evalue": "tile cannot extend outside image",
     "output_type": "error",
     "traceback": [
      "\u001b[0;31m---------------------------------------------------------------------------\u001b[0m",
      "\u001b[0;31mAttributeError\u001b[0m                            Traceback (most recent call last)",
      "File \u001b[0;32m~/.pyenv/versions/3.10.6/envs/carbon_calculator/lib/python3.10/site-packages/PIL/ImageFile.py:536\u001b[0m, in \u001b[0;36m_save\u001b[0;34m(im, fp, tile, bufsize)\u001b[0m\n\u001b[1;32m    535\u001b[0m \u001b[38;5;28;01mtry\u001b[39;00m:\n\u001b[0;32m--> 536\u001b[0m     fh \u001b[38;5;241m=\u001b[39m \u001b[43mfp\u001b[49m\u001b[38;5;241;43m.\u001b[39;49m\u001b[43mfileno\u001b[49m()\n\u001b[1;32m    537\u001b[0m     fp\u001b[38;5;241m.\u001b[39mflush()\n",
      "\u001b[0;31mAttributeError\u001b[0m: '_idat' object has no attribute 'fileno'",
      "\nDuring handling of the above exception, another exception occurred:\n",
      "\u001b[0;31mSystemError\u001b[0m                               Traceback (most recent call last)",
      "Cell \u001b[0;32mIn[28], line 1\u001b[0m\n\u001b[0;32m----> 1\u001b[0m pil_img, bin_img \u001b[38;5;241m=\u001b[39m \u001b[43mimage_cropper\u001b[49m\u001b[43m(\u001b[49m\u001b[43mimage_data_bytes\u001b[49m\u001b[43m,\u001b[49m\u001b[43m \u001b[49m\u001b[43mobject_localisation\u001b[49m\u001b[43m)\u001b[49m\n",
      "Cell \u001b[0;32mIn[7], line 27\u001b[0m, in \u001b[0;36mimage_cropper\u001b[0;34m(image, object_localisation)\u001b[0m\n\u001b[1;32m     25\u001b[0m obj_array \u001b[38;5;241m=\u001b[39m img_array[bbox[\u001b[38;5;241m0\u001b[39m][\u001b[38;5;124m'\u001b[39m\u001b[38;5;124my\u001b[39m\u001b[38;5;124m'\u001b[39m]:bbox[\u001b[38;5;241m2\u001b[39m][\u001b[38;5;124m'\u001b[39m\u001b[38;5;124my\u001b[39m\u001b[38;5;124m'\u001b[39m], bbox[\u001b[38;5;241m0\u001b[39m][\u001b[38;5;124m'\u001b[39m\u001b[38;5;124mx\u001b[39m\u001b[38;5;124m'\u001b[39m]:bbox[\u001b[38;5;241m1\u001b[39m][\u001b[38;5;124m'\u001b[39m\u001b[38;5;124mx\u001b[39m\u001b[38;5;124m'\u001b[39m]]\n\u001b[1;32m     26\u001b[0m pil_img \u001b[38;5;241m=\u001b[39m Image\u001b[38;5;241m.\u001b[39mfromarray(obj_array)\n\u001b[0;32m---> 27\u001b[0m binary_img \u001b[38;5;241m=\u001b[39m \u001b[43mconverter_pil_binary\u001b[49m\u001b[43m(\u001b[49m\u001b[43mpil_img\u001b[49m\u001b[43m)\u001b[49m\n\u001b[1;32m     29\u001b[0m \u001b[38;5;28;01mreturn\u001b[39;00m pil_img, binary_img\n",
      "Cell \u001b[0;32mIn[7], line 33\u001b[0m, in \u001b[0;36mconverter_pil_binary\u001b[0;34m(image)\u001b[0m\n\u001b[1;32m     31\u001b[0m \u001b[38;5;28;01mdef\u001b[39;00m \u001b[38;5;21mconverter_pil_binary\u001b[39m(image: Image):\n\u001b[1;32m     32\u001b[0m     img_byte_arr \u001b[38;5;241m=\u001b[39m io\u001b[38;5;241m.\u001b[39mBytesIO()\n\u001b[0;32m---> 33\u001b[0m     \u001b[43mimage\u001b[49m\u001b[38;5;241;43m.\u001b[39;49m\u001b[43msave\u001b[49m\u001b[43m(\u001b[49m\u001b[43mimg_byte_arr\u001b[49m\u001b[43m,\u001b[49m\u001b[43m \u001b[49m\u001b[38;5;28;43mformat\u001b[39;49m\u001b[38;5;241;43m=\u001b[39;49m\u001b[38;5;124;43m'\u001b[39;49m\u001b[38;5;124;43mPNG\u001b[39;49m\u001b[38;5;124;43m'\u001b[39;49m\u001b[43m)\u001b[49m\n\u001b[1;32m     34\u001b[0m     converted_image \u001b[38;5;241m=\u001b[39m img_byte_arr\u001b[38;5;241m.\u001b[39mgetvalue()\n\u001b[1;32m     36\u001b[0m     \u001b[38;5;28;01mreturn\u001b[39;00m converted_image\n",
      "File \u001b[0;32m~/.pyenv/versions/3.10.6/envs/carbon_calculator/lib/python3.10/site-packages/PIL/Image.py:2439\u001b[0m, in \u001b[0;36mImage.save\u001b[0;34m(self, fp, format, **params)\u001b[0m\n\u001b[1;32m   2436\u001b[0m         fp \u001b[38;5;241m=\u001b[39m builtins\u001b[38;5;241m.\u001b[39mopen(filename, \u001b[38;5;124m\"\u001b[39m\u001b[38;5;124mw+b\u001b[39m\u001b[38;5;124m\"\u001b[39m)\n\u001b[1;32m   2438\u001b[0m \u001b[38;5;28;01mtry\u001b[39;00m:\n\u001b[0;32m-> 2439\u001b[0m     \u001b[43msave_handler\u001b[49m\u001b[43m(\u001b[49m\u001b[38;5;28;43mself\u001b[39;49m\u001b[43m,\u001b[49m\u001b[43m \u001b[49m\u001b[43mfp\u001b[49m\u001b[43m,\u001b[49m\u001b[43m \u001b[49m\u001b[43mfilename\u001b[49m\u001b[43m)\u001b[49m\n\u001b[1;32m   2440\u001b[0m \u001b[38;5;28;01mexcept\u001b[39;00m \u001b[38;5;167;01mException\u001b[39;00m:\n\u001b[1;32m   2441\u001b[0m     \u001b[38;5;28;01mif\u001b[39;00m open_fp:\n",
      "File \u001b[0;32m~/.pyenv/versions/3.10.6/envs/carbon_calculator/lib/python3.10/site-packages/PIL/PngImagePlugin.py:1402\u001b[0m, in \u001b[0;36m_save\u001b[0;34m(im, fp, filename, chunk, save_all)\u001b[0m\n\u001b[1;32m   1398\u001b[0m     im \u001b[38;5;241m=\u001b[39m _write_multiple_frames(\n\u001b[1;32m   1399\u001b[0m         im, fp, chunk, rawmode, default_image, append_images\n\u001b[1;32m   1400\u001b[0m     )\n\u001b[1;32m   1401\u001b[0m \u001b[38;5;28;01mif\u001b[39;00m im:\n\u001b[0;32m-> 1402\u001b[0m     \u001b[43mImageFile\u001b[49m\u001b[38;5;241;43m.\u001b[39;49m\u001b[43m_save\u001b[49m\u001b[43m(\u001b[49m\u001b[43mim\u001b[49m\u001b[43m,\u001b[49m\u001b[43m \u001b[49m\u001b[43m_idat\u001b[49m\u001b[43m(\u001b[49m\u001b[43mfp\u001b[49m\u001b[43m,\u001b[49m\u001b[43m \u001b[49m\u001b[43mchunk\u001b[49m\u001b[43m)\u001b[49m\u001b[43m,\u001b[49m\u001b[43m \u001b[49m\u001b[43m[\u001b[49m\u001b[43m(\u001b[49m\u001b[38;5;124;43m\"\u001b[39;49m\u001b[38;5;124;43mzip\u001b[39;49m\u001b[38;5;124;43m\"\u001b[39;49m\u001b[43m,\u001b[49m\u001b[43m \u001b[49m\u001b[43m(\u001b[49m\u001b[38;5;241;43m0\u001b[39;49m\u001b[43m,\u001b[49m\u001b[43m \u001b[49m\u001b[38;5;241;43m0\u001b[39;49m\u001b[43m)\u001b[49m\u001b[43m \u001b[49m\u001b[38;5;241;43m+\u001b[39;49m\u001b[43m \u001b[49m\u001b[43mim\u001b[49m\u001b[38;5;241;43m.\u001b[39;49m\u001b[43msize\u001b[49m\u001b[43m,\u001b[49m\u001b[43m \u001b[49m\u001b[38;5;241;43m0\u001b[39;49m\u001b[43m,\u001b[49m\u001b[43m \u001b[49m\u001b[43mrawmode\u001b[49m\u001b[43m)\u001b[49m\u001b[43m]\u001b[49m\u001b[43m)\u001b[49m\n\u001b[1;32m   1404\u001b[0m \u001b[38;5;28;01mif\u001b[39;00m info:\n\u001b[1;32m   1405\u001b[0m     \u001b[38;5;28;01mfor\u001b[39;00m info_chunk \u001b[38;5;129;01min\u001b[39;00m info\u001b[38;5;241m.\u001b[39mchunks:\n",
      "File \u001b[0;32m~/.pyenv/versions/3.10.6/envs/carbon_calculator/lib/python3.10/site-packages/PIL/ImageFile.py:540\u001b[0m, in \u001b[0;36m_save\u001b[0;34m(im, fp, tile, bufsize)\u001b[0m\n\u001b[1;32m    538\u001b[0m     _encode_tile(im, fp, tile, bufsize, fh)\n\u001b[1;32m    539\u001b[0m \u001b[38;5;28;01mexcept\u001b[39;00m (\u001b[38;5;167;01mAttributeError\u001b[39;00m, io\u001b[38;5;241m.\u001b[39mUnsupportedOperation) \u001b[38;5;28;01mas\u001b[39;00m exc:\n\u001b[0;32m--> 540\u001b[0m     \u001b[43m_encode_tile\u001b[49m\u001b[43m(\u001b[49m\u001b[43mim\u001b[49m\u001b[43m,\u001b[49m\u001b[43m \u001b[49m\u001b[43mfp\u001b[49m\u001b[43m,\u001b[49m\u001b[43m \u001b[49m\u001b[43mtile\u001b[49m\u001b[43m,\u001b[49m\u001b[43m \u001b[49m\u001b[43mbufsize\u001b[49m\u001b[43m,\u001b[49m\u001b[43m \u001b[49m\u001b[38;5;28;43;01mNone\u001b[39;49;00m\u001b[43m,\u001b[49m\u001b[43m \u001b[49m\u001b[43mexc\u001b[49m\u001b[43m)\u001b[49m\n\u001b[1;32m    541\u001b[0m \u001b[38;5;28;01mif\u001b[39;00m \u001b[38;5;28mhasattr\u001b[39m(fp, \u001b[38;5;124m\"\u001b[39m\u001b[38;5;124mflush\u001b[39m\u001b[38;5;124m\"\u001b[39m):\n\u001b[1;32m    542\u001b[0m     fp\u001b[38;5;241m.\u001b[39mflush()\n",
      "File \u001b[0;32m~/.pyenv/versions/3.10.6/envs/carbon_calculator/lib/python3.10/site-packages/PIL/ImageFile.py:551\u001b[0m, in \u001b[0;36m_encode_tile\u001b[0;34m(im, fp, tile, bufsize, fh, exc)\u001b[0m\n\u001b[1;32m    549\u001b[0m encoder \u001b[38;5;241m=\u001b[39m Image\u001b[38;5;241m.\u001b[39m_getencoder(im\u001b[38;5;241m.\u001b[39mmode, encoder_name, args, im\u001b[38;5;241m.\u001b[39mencoderconfig)\n\u001b[1;32m    550\u001b[0m \u001b[38;5;28;01mtry\u001b[39;00m:\n\u001b[0;32m--> 551\u001b[0m     \u001b[43mencoder\u001b[49m\u001b[38;5;241;43m.\u001b[39;49m\u001b[43msetimage\u001b[49m\u001b[43m(\u001b[49m\u001b[43mim\u001b[49m\u001b[38;5;241;43m.\u001b[39;49m\u001b[43mim\u001b[49m\u001b[43m,\u001b[49m\u001b[43m \u001b[49m\u001b[43mextents\u001b[49m\u001b[43m)\u001b[49m\n\u001b[1;32m    552\u001b[0m     \u001b[38;5;28;01mif\u001b[39;00m encoder\u001b[38;5;241m.\u001b[39mpushes_fd:\n\u001b[1;32m    553\u001b[0m         encoder\u001b[38;5;241m.\u001b[39msetfd(fp)\n",
      "\u001b[0;31mSystemError\u001b[0m: tile cannot extend outside image"
     ]
    }
   ],
   "source": [
    "pil_img, bin_img = image_cropper(image_data_bytes, object_localisation)"
   ]
  },
  {
   "cell_type": "code",
   "execution_count": null,
   "metadata": {},
   "outputs": [],
   "source": []
  }
 ],
 "metadata": {
  "kernelspec": {
   "display_name": "carbon_calculator",
   "language": "python",
   "name": "python3"
  },
  "language_info": {
   "codemirror_mode": {
    "name": "ipython",
    "version": 3
   },
   "file_extension": ".py",
   "mimetype": "text/x-python",
   "name": "python",
   "nbconvert_exporter": "python",
   "pygments_lexer": "ipython3",
   "version": "3.10.6"
  }
 },
 "nbformat": 4,
 "nbformat_minor": 2
}
